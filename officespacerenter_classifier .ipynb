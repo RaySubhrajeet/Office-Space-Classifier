{
  "nbformat": 4,
  "nbformat_minor": 0,
  "metadata": {
    "colab": {
      "name": "OfficeSpaceRenter_Classifier.ipynb",
      "provenance": [],
      "collapsed_sections": []
    },
    "kernelspec": {
      "name": "python3",
      "display_name": "Python 3"
    }
  },
  "cells": [
    {
      "cell_type": "code",
      "metadata": {
        "id": "sVWmzrTuQf5G",
        "colab_type": "code",
        "colab": {}
      },
      "source": [
        "import numpy as np\n",
        "import pandas as pd\n"
      ],
      "execution_count": 0,
      "outputs": []
    },
    {
      "cell_type": "code",
      "metadata": {
        "id": "OI_sTynId2QZ",
        "colab_type": "code",
        "colab": {
          "base_uri": "https://localhost:8080/",
          "height": 204
        },
        "outputId": "bcb01027-d87d-4c01-dcec-bdf0c9b8c441"
      },
      "source": [
        "# Reading Data\n",
        "officeData = pd.read_csv('ra_data_classifier.csv',encoding= 'unicode_escape')\n",
        "officeData.head()\n"
      ],
      "execution_count": 94,
      "outputs": [
        {
          "output_type": "execute_result",
          "data": {
            "text/html": [
              "<div>\n",
              "<style scoped>\n",
              "    .dataframe tbody tr th:only-of-type {\n",
              "        vertical-align: middle;\n",
              "    }\n",
              "\n",
              "    .dataframe tbody tr th {\n",
              "        vertical-align: top;\n",
              "    }\n",
              "\n",
              "    .dataframe thead th {\n",
              "        text-align: right;\n",
              "    }\n",
              "</style>\n",
              "<table border=\"1\" class=\"dataframe\">\n",
              "  <thead>\n",
              "    <tr style=\"text-align: right;\">\n",
              "      <th></th>\n",
              "      <th>hid</th>\n",
              "      <th>chunk</th>\n",
              "      <th>has_space</th>\n",
              "    </tr>\n",
              "  </thead>\n",
              "  <tbody>\n",
              "    <tr>\n",
              "      <th>0</th>\n",
              "      <td>33BFF6QPI1YEFYISIWWDVQKGH8RW3Z</td>\n",
              "      <td>Landmark Center, 8th Fl</td>\n",
              "      <td>0</td>\n",
              "    </tr>\n",
              "    <tr>\n",
              "      <th>1</th>\n",
              "      <td>3HUR21WDDUCUK1K6HMLPN3U0ZBSYX0</td>\n",
              "      <td>Contact: The C3 team at MakemeC3@cic.us -- Add...</td>\n",
              "      <td>0</td>\n",
              "    </tr>\n",
              "    <tr>\n",
              "      <th>2</th>\n",
              "      <td>3566S7OX5D63FG3CNKAIFH62QX517B</td>\n",
              "      <td>A powerful tool for developers, the MySQL Data...</td>\n",
              "      <td>0</td>\n",
              "    </tr>\n",
              "    <tr>\n",
              "      <th>3</th>\n",
              "      <td>3GV1I4SEO9CX1NTBXKN9TIFKTSQ6LN</td>\n",
              "      <td>Easy access to T, Hubway, and parking</td>\n",
              "      <td>0</td>\n",
              "    </tr>\n",
              "    <tr>\n",
              "      <th>4</th>\n",
              "      <td>37SDSEDIN9P7FU8VXP2OTH2X1HB18Y</td>\n",
              "      <td>Check out our Private Offices</td>\n",
              "      <td>1</td>\n",
              "    </tr>\n",
              "  </tbody>\n",
              "</table>\n",
              "</div>"
            ],
            "text/plain": [
              "                              hid  ... has_space\n",
              "0  33BFF6QPI1YEFYISIWWDVQKGH8RW3Z  ...         0\n",
              "1  3HUR21WDDUCUK1K6HMLPN3U0ZBSYX0  ...         0\n",
              "2  3566S7OX5D63FG3CNKAIFH62QX517B  ...         0\n",
              "3  3GV1I4SEO9CX1NTBXKN9TIFKTSQ6LN  ...         0\n",
              "4  37SDSEDIN9P7FU8VXP2OTH2X1HB18Y  ...         1\n",
              "\n",
              "[5 rows x 3 columns]"
            ]
          },
          "metadata": {
            "tags": []
          },
          "execution_count": 94
        }
      ]
    },
    {
      "cell_type": "code",
      "metadata": {
        "id": "_W08CV1geA_7",
        "colab_type": "code",
        "colab": {
          "base_uri": "https://localhost:8080/",
          "height": 34
        },
        "outputId": "b3036942-28d9-4621-e84b-bf6db0e1e3f6"
      },
      "source": [
        "len(officeData)"
      ],
      "execution_count": 95,
      "outputs": [
        {
          "output_type": "execute_result",
          "data": {
            "text/plain": [
              "100"
            ]
          },
          "metadata": {
            "tags": []
          },
          "execution_count": 95
        }
      ]
    },
    {
      "cell_type": "code",
      "metadata": {
        "id": "YO47jZ9meU8D",
        "colab_type": "code",
        "colab": {
          "base_uri": "https://localhost:8080/",
          "height": 34
        },
        "outputId": "5c0c1104-0a13-4f5d-b69a-899d14a08bb5"
      },
      "source": [
        "officeData.shape"
      ],
      "execution_count": 96,
      "outputs": [
        {
          "output_type": "execute_result",
          "data": {
            "text/plain": [
              "(100, 3)"
            ]
          },
          "metadata": {
            "tags": []
          },
          "execution_count": 96
        }
      ]
    },
    {
      "cell_type": "code",
      "metadata": {
        "id": "TaXqdS2pfHpD",
        "colab_type": "code",
        "colab": {}
      },
      "source": [
        "officeData=officeData.drop(columns=['hid'])"
      ],
      "execution_count": 0,
      "outputs": []
    },
    {
      "cell_type": "code",
      "metadata": {
        "id": "MM161kYeeg33",
        "colab_type": "code",
        "colab": {
          "base_uri": "https://localhost:8080/",
          "height": 142
        },
        "outputId": "7d5e21bf-6183-4584-ff6f-66c5e8c9ad65"
      },
      "source": [
        "officeData.groupby('has_space').count()"
      ],
      "execution_count": 98,
      "outputs": [
        {
          "output_type": "execute_result",
          "data": {
            "text/html": [
              "<div>\n",
              "<style scoped>\n",
              "    .dataframe tbody tr th:only-of-type {\n",
              "        vertical-align: middle;\n",
              "    }\n",
              "\n",
              "    .dataframe tbody tr th {\n",
              "        vertical-align: top;\n",
              "    }\n",
              "\n",
              "    .dataframe thead th {\n",
              "        text-align: right;\n",
              "    }\n",
              "</style>\n",
              "<table border=\"1\" class=\"dataframe\">\n",
              "  <thead>\n",
              "    <tr style=\"text-align: right;\">\n",
              "      <th></th>\n",
              "      <th>chunk</th>\n",
              "    </tr>\n",
              "    <tr>\n",
              "      <th>has_space</th>\n",
              "      <th></th>\n",
              "    </tr>\n",
              "  </thead>\n",
              "  <tbody>\n",
              "    <tr>\n",
              "      <th>0</th>\n",
              "      <td>65</td>\n",
              "    </tr>\n",
              "    <tr>\n",
              "      <th>1</th>\n",
              "      <td>35</td>\n",
              "    </tr>\n",
              "  </tbody>\n",
              "</table>\n",
              "</div>"
            ],
            "text/plain": [
              "           chunk\n",
              "has_space       \n",
              "0             65\n",
              "1             35"
            ]
          },
          "metadata": {
            "tags": []
          },
          "execution_count": 98
        }
      ]
    },
    {
      "cell_type": "code",
      "metadata": {
        "id": "SP8_hRXCg0FO",
        "colab_type": "code",
        "colab": {
          "base_uri": "https://localhost:8080/",
          "height": 255
        },
        "outputId": "23d65567-7f41-4c19-fc9f-229f5480ff18"
      },
      "source": [
        "officeData_copy=officeData.copy()\n",
        "print(officeData_copy)"
      ],
      "execution_count": 99,
      "outputs": [
        {
          "output_type": "stream",
          "text": [
            "                                                chunk  has_space\n",
            "0                             Landmark Center, 8th Fl          0\n",
            "1   Contact: The C3 team at MakemeC3@cic.us -- Add...          0\n",
            "2   A powerful tool for developers, the MySQL Data...          0\n",
            "3               Easy access to T, Hubway, and parking          0\n",
            "4                       Check out our Private Offices          1\n",
            "..                                                ...        ...\n",
            "95              Cambridge Coworking CommunityåÊ(\"C3\")          0\n",
            "96  Vibrant neighborhood community ÛÒÛÒ restaura...          0\n",
            "97  Rates: \"Geek Premium\", dedicated workspace for...          1\n",
            "98  The re-shaping of the American workforce, init...          1\n",
            "99  Usermin is webmail and much more! Usermin prov...          0\n",
            "\n",
            "[100 rows x 2 columns]\n"
          ],
          "name": "stdout"
        }
      ]
    },
    {
      "cell_type": "code",
      "metadata": {
        "id": "sQi4V_WshbMH",
        "colab_type": "code",
        "colab": {
          "base_uri": "https://localhost:8080/",
          "height": 119
        },
        "outputId": "0260575c-d290-4f5b-97ab-847591414122"
      },
      "source": [
        "officeData_copy['chunk'] = officeData_copy['chunk'].str.replace('\\W+', ' ').str.replace('\\s+', ' ').str.strip()\n",
        "\n",
        "officeData_copy['chunk'] = officeData_copy['chunk'].str.lower()\n",
        "\n",
        "officeData_copy['chunk'] = officeData_copy['chunk'].str.split()\n",
        "\n",
        "officeData_copy['chunk'].head()"
      ],
      "execution_count": 100,
      "outputs": [
        {
          "output_type": "execute_result",
          "data": {
            "text/plain": [
              "0                          [landmark, center, 8th, fl]\n",
              "1    [contact, the, c3, team, at, makemec3, cic, us...\n",
              "2    [a, powerful, tool, for, developers, the, mysq...\n",
              "3          [easy, access, to, t, hubway, and, parking]\n",
              "4                  [check, out, our, private, offices]\n",
              "Name: chunk, dtype: object"
            ]
          },
          "metadata": {
            "tags": []
          },
          "execution_count": 100
        }
      ]
    },
    {
      "cell_type": "code",
      "metadata": {
        "id": "2mkL8qNGjW9s",
        "colab_type": "code",
        "colab": {
          "base_uri": "https://localhost:8080/",
          "height": 68
        },
        "outputId": "7f59c966-1d39-4be2-9350-db244fde97c4"
      },
      "source": [
        "officeData_copy['has_space'].value_counts() / officeData_copy.shape[0] * 100"
      ],
      "execution_count": 101,
      "outputs": [
        {
          "output_type": "execute_result",
          "data": {
            "text/plain": [
              "0    65.0\n",
              "1    35.0\n",
              "Name: has_space, dtype: float64"
            ]
          },
          "metadata": {
            "tags": []
          },
          "execution_count": 101
        }
      ]
    },
    {
      "cell_type": "markdown",
      "metadata": {
        "id": "pVagpWFbjz-D",
        "colab_type": "text"
      },
      "source": [
        "# Spliting Test and Train Data"
      ]
    },
    {
      "cell_type": "code",
      "metadata": {
        "id": "ybF3CWzhj6uR",
        "colab_type": "code",
        "colab": {}
      },
      "source": [
        "train_data = officeData_copy.sample(frac=0.7,random_state=1).reset_index(drop=True)\n",
        "test_data = officeData_copy.drop(train_data.index).reset_index(drop=True)\n",
        "train_data = train_data.reset_index(drop=True)"
      ],
      "execution_count": 0,
      "outputs": []
    },
    {
      "cell_type": "code",
      "metadata": {
        "id": "piBRON-wkOla",
        "colab_type": "code",
        "colab": {
          "base_uri": "https://localhost:8080/",
          "height": 68
        },
        "outputId": "ca015f4c-6c5e-40c6-f8e0-a42e853589e8"
      },
      "source": [
        "train_data['has_space'].value_counts() / train_data.shape[0] * 100"
      ],
      "execution_count": 103,
      "outputs": [
        {
          "output_type": "execute_result",
          "data": {
            "text/plain": [
              "0    64.285714\n",
              "1    35.714286\n",
              "Name: has_space, dtype: float64"
            ]
          },
          "metadata": {
            "tags": []
          },
          "execution_count": 103
        }
      ]
    },
    {
      "cell_type": "code",
      "metadata": {
        "id": "yNSx3I23ke0a",
        "colab_type": "code",
        "colab": {
          "base_uri": "https://localhost:8080/",
          "height": 34
        },
        "outputId": "da9dee83-646e-4607-d53a-178d5e4e4f85"
      },
      "source": [
        "train_data.shape"
      ],
      "execution_count": 104,
      "outputs": [
        {
          "output_type": "execute_result",
          "data": {
            "text/plain": [
              "(70, 2)"
            ]
          },
          "metadata": {
            "tags": []
          },
          "execution_count": 104
        }
      ]
    },
    {
      "cell_type": "code",
      "metadata": {
        "id": "UyiRUsqskmGK",
        "colab_type": "code",
        "colab": {
          "base_uri": "https://localhost:8080/",
          "height": 68
        },
        "outputId": "b9ba53fa-018d-46fa-fa79-4309c8c9bb62"
      },
      "source": [
        "test_data['has_space'].value_counts() / test_data.shape[0] * 100"
      ],
      "execution_count": 105,
      "outputs": [
        {
          "output_type": "execute_result",
          "data": {
            "text/plain": [
              "0    70.0\n",
              "1    30.0\n",
              "Name: has_space, dtype: float64"
            ]
          },
          "metadata": {
            "tags": []
          },
          "execution_count": 105
        }
      ]
    },
    {
      "cell_type": "code",
      "metadata": {
        "id": "6TDHdBrjkrqd",
        "colab_type": "code",
        "colab": {
          "base_uri": "https://localhost:8080/",
          "height": 34
        },
        "outputId": "259e6b36-c68a-468e-c95f-6a25cfa79374"
      },
      "source": [
        "test_data.shape"
      ],
      "execution_count": 106,
      "outputs": [
        {
          "output_type": "execute_result",
          "data": {
            "text/plain": [
              "(30, 2)"
            ]
          },
          "metadata": {
            "tags": []
          },
          "execution_count": 106
        }
      ]
    },
    {
      "cell_type": "markdown",
      "metadata": {
        "id": "KJ5Vh-xmk8xK",
        "colab_type": "text"
      },
      "source": [
        "# Creating list of all words"
      ]
    },
    {
      "cell_type": "code",
      "metadata": {
        "id": "FAfxxJoclBqj",
        "colab_type": "code",
        "colab": {
          "base_uri": "https://localhost:8080/",
          "height": 34
        },
        "outputId": "f8116f1d-53d1-4d4c-cb23-abcea123cb9b"
      },
      "source": [
        "vocabulary = list(set(train_data['chunk'].sum()))\n",
        "len(vocabulary)"
      ],
      "execution_count": 107,
      "outputs": [
        {
          "output_type": "execute_result",
          "data": {
            "text/plain": [
              "1068"
            ]
          },
          "metadata": {
            "tags": []
          },
          "execution_count": 107
        }
      ]
    },
    {
      "cell_type": "code",
      "metadata": {
        "id": "J6HQSjSzlMGo",
        "colab_type": "code",
        "colab": {
          "base_uri": "https://localhost:8080/",
          "height": 54
        },
        "outputId": "7e3135be-10a6-4961-d42f-5c53c02c852a"
      },
      "source": [
        "print(vocabulary)"
      ],
      "execution_count": 108,
      "outputs": [
        {
          "output_type": "stream",
          "text": [
            "['terminal', 'resident', '2600', 'directly', 'line', 'processing', 'ûò', 'special', 'categories', 'how', 'ûªve', 'åêright', 'design', 'locals', 'anne', 'views', 'its', 'let', 'printers', '5', 'changing', 'floor', 'valley', 'parking', 'month', 'harrison', '8th', 'cardamone', 'have', 'comes', 'creatives', 'before', 'menberships', 'applications', 'solutions', 'days', 'info', 'near', 'greater', 'lxc', 'databases', 'didn', 'b', 'sql', 'åêåê617', 'integrated', 'broadway', 'business', 'provides', 'together', 'firewalls', 'schedule', 'workspace', 'shuttle', 'data', 'o', 'change', '4', 'åêåêåêåêåêåêfree', 'mill', 'cleantech', '2', 'find', 'install', 'atari', 'day', 'exclaimed', 'boss', 'update', 'biography', 'makes', 'across', 'gathers', 'overlooking', 'england', 'loughlin', 'specific', 'unlimited', 'delegation', 's', 'around', 'seven', 'sign', 'established', '00am', 'majority', 'offer', 'visiting', '15', 'cove', 'flexible', 'said', 'abby', '7pm', 'workforce', 'start', 'files', 'network', 'chelsea', 'job', 'qmail', 'center', 'am', 'seminars', 'saas', 'fax', 'town', 'twitter', 'postfix', 'kendall', 'featured', 'it', 'landmark', 'capacities', 'recently', 'stop', 'enterprise', 'mix', 'off', 'solution', 'anytime', 'deep', 'unix', 'webmail', 'state', 'found', 'fireside', 'member', 'html5', 'evona', 'decades', 'is', 'founder', 'dozens', 'necessary', 'user', 'during', 'ûïnow', 'station', 'changes', 'cafe', 'eight', 'artists', 'exhibition', 'version', 'doing', 'teach', 'again', 'since', 'wearing', 'spaces', 'importing', '000', 'events', 'headquarters', 'blog', 'form', 'southendworklounge', 'council', 'providing', 'trades', 'grows', 'sally', 'keep', 'comfortable', 'laid', 'south', 'cloud', 'similarly', 'projector', 'loving', 'editor', 'safety', 'internet', 'available', 'they', 'real', 'domains', 'class', 'links', 'brian', 'economy', 'deprecates', 'silver', 'innovation', 'disinclined', '7', 'if', 'close', 'adding', 'productive', 'bind', 'could', 'go', 'page', 'inhale', 'machine', 'leases', 'think', 'formed', 'feel', 'asylum', 'podium', 'host', 'synergistic', 'hanson', 'knowledge', 'variety', 'market', 'we', 'mit', 'look', 'vc', 'discounted', '475', 'their', 'theåêperks', 'james', 'prototyping', 'workbaråêcambridge', 'between', 'construction', 'customers', 'chats', 'jacobs', 'square', 'style', 'alliance', 'hub', 'like', 'investing', 'confidence', 'geek', 'ngin', 'stack', 'from', 'powered', 'backups', 'dozen', 'refrigerator', '600', '89', 'x', 'accommodate', 'boulders', 'sets', 'glance', '80', 'works', 'opened', 'garage', 'after', 'u', 'would', 'mentoring', 'confident', 'five', 'into', 'critical', 'openvz', 'considered', 'collaboration', 'you', 'brand', 'working', 'traditional', 'other', 'professionally', 'though', 'c3', 'sunlight', 'åêrent', 'vibe', 'compute', 'åêproviding', 'week', 'os', 'scaling', 'interface', 'light', 'term', 'activists', 'shops', 'with', 'capacity', 'can', 'shaping', 'bar', 'updates', 'current', 'hosting', 'two', 'via', 'ûïthe', 'might', 'group', 'spearheading', 'top', 'at', 'best', 'give', 'screen', 'newbury', 'doherty', '8thåêfloor', 'capabilities', 'creation', 'needs', 'stops', 'choose', 'fit', 'another', 'partnership', 'theme', 'pages', 'even', 'here', 'within', 'country', 'latter', 'cozy', 'lot', 'startups', 'browser', '10', 'strategy', 'client', 'up', 'expanding', 'standing', 'taylor', 'local', 'åêmakemec3', 'shared', 'home', 'metropolitan', 'level', 'opposition', 'edge', 'comprehensive', 'weekends', 'including', 'more', 'world', 'address', 'beginning', '3300e', 'restaurants', 'ûªre', 'electric', 'uploaded', 'set', 'out', 'per', 'phppgadmin', 'shopping', 'years', 'any', 'american', 'malden', 'expect', 'surrounded', 'ûó', 'starbucks', 'gathering', 'thesis', 'serve', 'lofts', 'he', 'ec2', 'admiral', 'safe', 'mail', 'build', 'web', 'phpmyadmin', 'foothold', 'features', 'us', 'creative', 'river', 'windows', 'affordable', 'for', 'systems', 'team', 'won', 'ceiling', '20', 'sysadmin', '150', 'area', 'arlington', 'social', 'cowork', 'offering', 'oil', 'meetings', 'office', 'on', 'brazilian', 'offices', 'worn', 'far', 'director', 'just', 'desk', 'applet', 'defaults', 'worked', 'ûïwhen', 'his', 'gui', 'million', 'estate', 'well', 'rates', 'i', 'administrators', 'located', 'list', 'likely', 'meeting', 'ûïthey', 'search', 'tool', 'responsive', 'tools', 'editing', 'phone', 'analytics', 'clear', 'inside', '401', 'old', 'focusing', 'booths', 'barack', 'apa', 'manages', 'tasks', 'this', 'nearly', 'committed', 'also', 'under', 'realm', 'shop', 'travelers', 'mid', 'link', 'space', 'rooms', 'ûªll', 'concise', 'founding', 'alley', 'in', '550', 'engine', 'members', '179', 'entrepreneurially', 'most', 'private', 'antivirus', 'rock', 'targeting', 'co', 'writes', 'industrial', 'monthly', 'switch', 'management', 'central', 'startup', 'our', 'what', 'activities', 'had', 'people', 'charles', 'strive', 'fast', 'availability', 'ûïi', 'employees', 'three', 'obama', 'command', 'your', 'millennials', 'but', 'juggernaut', 'coworkers', 'agent', 'kvm', 'emphasizes', 'albany', 'be', 'snacks', 'get', 'jon', '800', 'workbar', 'xen', 'com', 'called', 'åêåêcontact', 'desks', 'networking', 'rent', 'linkedin', 'open', 'experience', 'beautiful', 'proud', 'of', 'innovative', 'appeal', 'activism', 'gym', 'provide', 'both', 'server', 'includes', 'will', 'operations', 'development', 'diverse', 'communityåê', 'then', 'brick', 'august', 'point', 'file', 'practical', 'or', 'announced', 'helps', 'room', 'type', 'red', 'hassling', 'person', 'good', 'tweets', 'åêmonthly', 'want', 'amazon', 'some', 'medical', 'apache', 'white', 'event', 'harbor', 'shifted', 'somerville', 'sneakers', 'international', '3', 'union', 'canopy', 'database', 'afoot', 'based', 'allow', 'folders', 'create', 'password', 'solidarity', 'a', 'sallyhjacobs', 'classes', 'connects', 'nmotion', 'company', 'workers', 'full', 'focus', 'text', 'artisan', 'night', 'bus', 'acceleprise', 'mac', 'gain', '35', 'addition', 'dedicated', 'them', 'computing', 'mixers', 'default', 'nooks', 'through', 'steps', 'much', 'inåêthe', 'common', 'ûïwe', 'apart', 'contract', 'agreements', 'spreadsheets', 'walking', 'was', 'collaborative', 'as', 'soloist', 'climb', 'york', 'encryption', 'allows', 'grant', 'hip', 'mysql', 'nuances', 'simply', 'who', 'learn', 'nights', 'particular', 'areas', 'lamp', 'downloads', 'each', 'district', 'where', 'groups', 'resources', 'dehumanize', 'hour', 'shape', 'genesis', '2008', 'important', 'monitoring', 'travelled', 'unconscionable', 'having', 'hardware', 'few', 'way', 'food', 'justice', 'launched', 'climbing', 'last', 'cubicles', 'founders', 'worktables', 'businesses', 'opportunities', 'budget', 'and', 'article', '125', 'purposefully', 'long', 'policy', 'olinto', 'premium', 'boston', 'ûªs', 'sustainability', 'without', 'system', 'every', 'has', 'sega', 'additional', 'dynamic', 'tour', 'one', 'connect', 'interpret', 'marina', 'wide', 'incumbent', 'mentioned', 'hubs', 'wifi', 'leader', 'monday', 'workersåêto', 'dump', 'manager', 'email', 'hubway', 'hosts', 'charting', 'vertical', 'åêor', 'åêdailyåêoråêhourly', 'buzz', 'about', 'åê9', 'impact', 'decided', 'due', 'train', 'keeps', 'terms', 'action', 'help', 'ouråêprivate', 'backing', 'teammates', 'father', 'range', 'date', 'original', 'effort', 'multi', 'seem', 'ideal', 'below', 'seeing', 'workspaces', 'training', 'reduced', 'cic', 'distance', 'efforts', 'linux', 'cambridge', 'president', 'glasses', 'street', 'big', 'flashy', 'minded', 'follow', 'webmin', 'api', 'than', 'publications', 'arlingtonåêprovide', 'urban', 'boards', 'describes', 'location', 'making', 'professional', '8am', 'there', 'built', 'finding', 'grow', 'please', 'support', 'little', 'not', 'many', 'ups', 'matter', 'read', 'community', 'washington', 'alerts', 'advocates', 'unmatched', 'newcomer', 'metered', 'converting', 'matches', 'powerful', 'coworking', 'åêwhen', 'ability', 'life', 'export', 'early', 'demand', 'second', 'industry', 'once', 'panel', 'security', 'moves', 'kitchen', 'hello', 'manage', 'add', 'catalyze', 'socially', 'managing', 'ui', 'setup', '450', 'reporter', 'believes', 'allowing', 'glad', 'total', 'shower', 'growth', 'whether', 'shrink', 'chaos', 'panoramic', 'thinking', 'cooperative', 'privileges', 'presents', 'new', 'table', 'spam', 'û', 'fabrication', 'quiet', 'st', 'by', 'come', 'cloudmin', 'virtualmin', 'track', 'flexibility', 'waterman', 'year', 'machines', 'values', 'planning', 'burbs', 'disciplines', 'capable', 'an', 'do', 'orange', 'callingåêåêåêåêåêåêåêåêåêåêåêåêåêåêåêåêåêåêåêåêåêåêåêåêåêåêåêåêåêåêåêåêåêåêåêåêåêåêåêåêåêåêåêåêåêåêfree', 'tracks', 'pricing', 'alongside', 'panels', 'calls', 'being', 'opportunity', 'deserves', 'friday', 'app', 'lounge', 'control', 'gas', 'outerspaces', 'general', 'looking', 'options', 'so', 'plug', 'typical', 'head', 'silicon', 'recession', 'memberships', '30', 'commoncove', 'streets', 'coming', 'chair', 'know', 'services', 'cubicle', 'rather', 'check', 'printer', 'downtown', 'ûïhome', 'program', 'along', 'popular', 'ûïnot', 'include', 'great', 'gmail', 'radical', 'reached', 'fellow', 'small', 'beyond', 'companies', 'mo', 'prestigious', 'says', 'users', 'wall', 'shift', 'internal', '100', '75', 'leading', 'believe', 'really', 'availableåê', 'bills', 're', 'high', 'details', 'may', 'avenue', 'serious', 'never', 'globe', 'place', 'scripts', 'coffee', 'building', 'filters', 'administration', 'view', 'connected', 'greentown', 'fl', 'insert', 'harder', 'access', 'these', 'soon', 'all', 'execute', 'forward', 'hats', 'comåêåê', 'postgresql', 'benefits', 'public', 'barismo', 'niewiadomska', 'auditing', 'historic', 'today', 'returning', 'javascript', 'oversized', 'quality', 'accessible', 'time', 'summer', 'metrics', 'developers', 'the', 'author', 'over', 'easier', 'marketing', 'moved', 'canopyåê', 'friendly', 'going', 'technology', 'scanner', 'roundup', 'firm', 'made', 'sowaåê', 'same', 'resistance', 'first', 'free', 'take', 'floating', 'started', 'target', 'growing', 'human', 'brooklyn', 'work', 'waterfront', 'entrepreneurs', 'seek', 'åê', 'none', '350', 'video', 'no', 'sendmail', 'java', 'main', 'usermin', 'post', 't', '00pm', 'house', 'infrastructure', 'fuse', 'contact', 'beam', 'taking', 'easily', 'offers', 'w', 'organize', 'sometimes', 'information', 'integrate', 'voltage', 'ûïit', 'conference', 'liberating', 'davis', 'she', 'filemin', 'got', 'solopreneur', '60', 'to', 'raw', 'breathe', 'independent', 'module', 'own', 'use', 'goal', 'avaiable', 'schema', 'need', 'membership', 'ago', 'hubliferhythms', '24', 'ûªt', 'labs', 'intends', 'forces', 'city', 'now', 'are', 'wework', 'rental', 'google', 'sf', 'external', 'devoted', 'worldwide', 'next', 'that', 'locations', '300', 'environments', 'turnstone', 'suburban', 'which', 'move', 'everything', 'focal', 'hard', 'grandfather', 'firsthand', 'site', 'make', 'hill', 'part', 'buildings', 'sales', 'live', 'easy', 'initiated', '25', 'march', 'skills', 'virtual', 'tech', 'copier', 'while', 'accelerated', 'casual', 'matures', 'driven']\n"
          ],
          "name": "stdout"
        }
      ]
    },
    {
      "cell_type": "markdown",
      "metadata": {
        "id": "-48PxAfcl2U3",
        "colab_type": "text"
      },
      "source": [
        "# Calculating frequency of words in each chunk"
      ]
    },
    {
      "cell_type": "code",
      "metadata": {
        "id": "byAHtYa5l9Hv",
        "colab_type": "code",
        "colab": {}
      },
      "source": [
        "wordFrequency_per_chunk = pd.DataFrame([\n",
        "    [row[0].count(word) for word in vocabulary]\n",
        "    for _, row in train_data.iterrows()], columns=vocabulary)"
      ],
      "execution_count": 0,
      "outputs": []
    },
    {
      "cell_type": "code",
      "metadata": {
        "id": "8EcceoqcnNVP",
        "colab_type": "code",
        "colab": {}
      },
      "source": [
        "train_data = pd.concat([train_data.reset_index(), wordFrequency_per_chunk], axis=1).iloc[:,1:]"
      ],
      "execution_count": 0,
      "outputs": []
    },
    {
      "cell_type": "code",
      "metadata": {
        "id": "gqGNh2PNnc1G",
        "colab_type": "code",
        "colab": {
          "base_uri": "https://localhost:8080/",
          "height": 457
        },
        "outputId": "2c9314ce-27bb-4a65-bd7b-907dc11a64d8"
      },
      "source": [
        "train_data.head()\n"
      ],
      "execution_count": 111,
      "outputs": [
        {
          "output_type": "execute_result",
          "data": {
            "text/html": [
              "<div>\n",
              "<style scoped>\n",
              "    .dataframe tbody tr th:only-of-type {\n",
              "        vertical-align: middle;\n",
              "    }\n",
              "\n",
              "    .dataframe tbody tr th {\n",
              "        vertical-align: top;\n",
              "    }\n",
              "\n",
              "    .dataframe thead th {\n",
              "        text-align: right;\n",
              "    }\n",
              "</style>\n",
              "<table border=\"1\" class=\"dataframe\">\n",
              "  <thead>\n",
              "    <tr style=\"text-align: right;\">\n",
              "      <th></th>\n",
              "      <th>chunk</th>\n",
              "      <th>has_space</th>\n",
              "      <th>terminal</th>\n",
              "      <th>resident</th>\n",
              "      <th>2600</th>\n",
              "      <th>directly</th>\n",
              "      <th>line</th>\n",
              "      <th>processing</th>\n",
              "      <th>ûò</th>\n",
              "      <th>special</th>\n",
              "      <th>categories</th>\n",
              "      <th>how</th>\n",
              "      <th>ûªve</th>\n",
              "      <th>åêright</th>\n",
              "      <th>design</th>\n",
              "      <th>locals</th>\n",
              "      <th>anne</th>\n",
              "      <th>views</th>\n",
              "      <th>its</th>\n",
              "      <th>let</th>\n",
              "      <th>printers</th>\n",
              "      <th>5</th>\n",
              "      <th>changing</th>\n",
              "      <th>floor</th>\n",
              "      <th>valley</th>\n",
              "      <th>parking</th>\n",
              "      <th>month</th>\n",
              "      <th>harrison</th>\n",
              "      <th>8th</th>\n",
              "      <th>cardamone</th>\n",
              "      <th>have</th>\n",
              "      <th>comes</th>\n",
              "      <th>creatives</th>\n",
              "      <th>before</th>\n",
              "      <th>menberships</th>\n",
              "      <th>applications</th>\n",
              "      <th>solutions</th>\n",
              "      <th>days</th>\n",
              "      <th>info</th>\n",
              "      <th>near</th>\n",
              "      <th>...</th>\n",
              "      <th>rental</th>\n",
              "      <th>google</th>\n",
              "      <th>sf</th>\n",
              "      <th>external</th>\n",
              "      <th>devoted</th>\n",
              "      <th>worldwide</th>\n",
              "      <th>next</th>\n",
              "      <th>that</th>\n",
              "      <th>locations</th>\n",
              "      <th>300</th>\n",
              "      <th>environments</th>\n",
              "      <th>turnstone</th>\n",
              "      <th>suburban</th>\n",
              "      <th>which</th>\n",
              "      <th>move</th>\n",
              "      <th>everything</th>\n",
              "      <th>focal</th>\n",
              "      <th>hard</th>\n",
              "      <th>grandfather</th>\n",
              "      <th>firsthand</th>\n",
              "      <th>site</th>\n",
              "      <th>make</th>\n",
              "      <th>hill</th>\n",
              "      <th>part</th>\n",
              "      <th>buildings</th>\n",
              "      <th>sales</th>\n",
              "      <th>live</th>\n",
              "      <th>easy</th>\n",
              "      <th>initiated</th>\n",
              "      <th>25</th>\n",
              "      <th>march</th>\n",
              "      <th>skills</th>\n",
              "      <th>virtual</th>\n",
              "      <th>tech</th>\n",
              "      <th>copier</th>\n",
              "      <th>while</th>\n",
              "      <th>accelerated</th>\n",
              "      <th>casual</th>\n",
              "      <th>matures</th>\n",
              "      <th>driven</th>\n",
              "    </tr>\n",
              "  </thead>\n",
              "  <tbody>\n",
              "    <tr>\n",
              "      <th>0</th>\n",
              "      <td>[full, 350, month, 24, 7, access]</td>\n",
              "      <td>0</td>\n",
              "      <td>0</td>\n",
              "      <td>0</td>\n",
              "      <td>0</td>\n",
              "      <td>0</td>\n",
              "      <td>0</td>\n",
              "      <td>0</td>\n",
              "      <td>0</td>\n",
              "      <td>0</td>\n",
              "      <td>0</td>\n",
              "      <td>0</td>\n",
              "      <td>0</td>\n",
              "      <td>0</td>\n",
              "      <td>0</td>\n",
              "      <td>0</td>\n",
              "      <td>0</td>\n",
              "      <td>0</td>\n",
              "      <td>0</td>\n",
              "      <td>0</td>\n",
              "      <td>0</td>\n",
              "      <td>0</td>\n",
              "      <td>0</td>\n",
              "      <td>0</td>\n",
              "      <td>0</td>\n",
              "      <td>0</td>\n",
              "      <td>1</td>\n",
              "      <td>0</td>\n",
              "      <td>0</td>\n",
              "      <td>0</td>\n",
              "      <td>0</td>\n",
              "      <td>0</td>\n",
              "      <td>0</td>\n",
              "      <td>0</td>\n",
              "      <td>0</td>\n",
              "      <td>0</td>\n",
              "      <td>0</td>\n",
              "      <td>0</td>\n",
              "      <td>0</td>\n",
              "      <td>0</td>\n",
              "      <td>...</td>\n",
              "      <td>0</td>\n",
              "      <td>0</td>\n",
              "      <td>0</td>\n",
              "      <td>0</td>\n",
              "      <td>0</td>\n",
              "      <td>0</td>\n",
              "      <td>0</td>\n",
              "      <td>0</td>\n",
              "      <td>0</td>\n",
              "      <td>0</td>\n",
              "      <td>0</td>\n",
              "      <td>0</td>\n",
              "      <td>0</td>\n",
              "      <td>0</td>\n",
              "      <td>0</td>\n",
              "      <td>0</td>\n",
              "      <td>0</td>\n",
              "      <td>0</td>\n",
              "      <td>0</td>\n",
              "      <td>0</td>\n",
              "      <td>0</td>\n",
              "      <td>0</td>\n",
              "      <td>0</td>\n",
              "      <td>0</td>\n",
              "      <td>0</td>\n",
              "      <td>0</td>\n",
              "      <td>0</td>\n",
              "      <td>0</td>\n",
              "      <td>0</td>\n",
              "      <td>0</td>\n",
              "      <td>0</td>\n",
              "      <td>0</td>\n",
              "      <td>0</td>\n",
              "      <td>0</td>\n",
              "      <td>0</td>\n",
              "      <td>0</td>\n",
              "      <td>0</td>\n",
              "      <td>0</td>\n",
              "      <td>0</td>\n",
              "      <td>0</td>\n",
              "    </tr>\n",
              "    <tr>\n",
              "      <th>1</th>\n",
              "      <td>[ûïwhen, we, first, started, people, could, cl...</td>\n",
              "      <td>0</td>\n",
              "      <td>0</td>\n",
              "      <td>0</td>\n",
              "      <td>0</td>\n",
              "      <td>0</td>\n",
              "      <td>0</td>\n",
              "      <td>0</td>\n",
              "      <td>0</td>\n",
              "      <td>0</td>\n",
              "      <td>0</td>\n",
              "      <td>0</td>\n",
              "      <td>0</td>\n",
              "      <td>0</td>\n",
              "      <td>0</td>\n",
              "      <td>0</td>\n",
              "      <td>0</td>\n",
              "      <td>0</td>\n",
              "      <td>0</td>\n",
              "      <td>0</td>\n",
              "      <td>0</td>\n",
              "      <td>0</td>\n",
              "      <td>0</td>\n",
              "      <td>0</td>\n",
              "      <td>0</td>\n",
              "      <td>0</td>\n",
              "      <td>0</td>\n",
              "      <td>0</td>\n",
              "      <td>0</td>\n",
              "      <td>0</td>\n",
              "      <td>0</td>\n",
              "      <td>0</td>\n",
              "      <td>0</td>\n",
              "      <td>0</td>\n",
              "      <td>0</td>\n",
              "      <td>0</td>\n",
              "      <td>0</td>\n",
              "      <td>0</td>\n",
              "      <td>0</td>\n",
              "      <td>0</td>\n",
              "      <td>...</td>\n",
              "      <td>0</td>\n",
              "      <td>0</td>\n",
              "      <td>0</td>\n",
              "      <td>0</td>\n",
              "      <td>0</td>\n",
              "      <td>0</td>\n",
              "      <td>0</td>\n",
              "      <td>2</td>\n",
              "      <td>0</td>\n",
              "      <td>0</td>\n",
              "      <td>0</td>\n",
              "      <td>0</td>\n",
              "      <td>0</td>\n",
              "      <td>0</td>\n",
              "      <td>0</td>\n",
              "      <td>0</td>\n",
              "      <td>0</td>\n",
              "      <td>0</td>\n",
              "      <td>0</td>\n",
              "      <td>0</td>\n",
              "      <td>0</td>\n",
              "      <td>0</td>\n",
              "      <td>0</td>\n",
              "      <td>0</td>\n",
              "      <td>0</td>\n",
              "      <td>0</td>\n",
              "      <td>0</td>\n",
              "      <td>0</td>\n",
              "      <td>0</td>\n",
              "      <td>0</td>\n",
              "      <td>0</td>\n",
              "      <td>0</td>\n",
              "      <td>0</td>\n",
              "      <td>0</td>\n",
              "      <td>0</td>\n",
              "      <td>0</td>\n",
              "      <td>0</td>\n",
              "      <td>0</td>\n",
              "      <td>0</td>\n",
              "      <td>0</td>\n",
              "    </tr>\n",
              "    <tr>\n",
              "      <th>2</th>\n",
              "      <td>[article, by, evona, w, niewiadomska]</td>\n",
              "      <td>0</td>\n",
              "      <td>0</td>\n",
              "      <td>0</td>\n",
              "      <td>0</td>\n",
              "      <td>0</td>\n",
              "      <td>0</td>\n",
              "      <td>0</td>\n",
              "      <td>0</td>\n",
              "      <td>0</td>\n",
              "      <td>0</td>\n",
              "      <td>0</td>\n",
              "      <td>0</td>\n",
              "      <td>0</td>\n",
              "      <td>0</td>\n",
              "      <td>0</td>\n",
              "      <td>0</td>\n",
              "      <td>0</td>\n",
              "      <td>0</td>\n",
              "      <td>0</td>\n",
              "      <td>0</td>\n",
              "      <td>0</td>\n",
              "      <td>0</td>\n",
              "      <td>0</td>\n",
              "      <td>0</td>\n",
              "      <td>0</td>\n",
              "      <td>0</td>\n",
              "      <td>0</td>\n",
              "      <td>0</td>\n",
              "      <td>0</td>\n",
              "      <td>0</td>\n",
              "      <td>0</td>\n",
              "      <td>0</td>\n",
              "      <td>0</td>\n",
              "      <td>0</td>\n",
              "      <td>0</td>\n",
              "      <td>0</td>\n",
              "      <td>0</td>\n",
              "      <td>0</td>\n",
              "      <td>0</td>\n",
              "      <td>...</td>\n",
              "      <td>0</td>\n",
              "      <td>0</td>\n",
              "      <td>0</td>\n",
              "      <td>0</td>\n",
              "      <td>0</td>\n",
              "      <td>0</td>\n",
              "      <td>0</td>\n",
              "      <td>0</td>\n",
              "      <td>0</td>\n",
              "      <td>0</td>\n",
              "      <td>0</td>\n",
              "      <td>0</td>\n",
              "      <td>0</td>\n",
              "      <td>0</td>\n",
              "      <td>0</td>\n",
              "      <td>0</td>\n",
              "      <td>0</td>\n",
              "      <td>0</td>\n",
              "      <td>0</td>\n",
              "      <td>0</td>\n",
              "      <td>0</td>\n",
              "      <td>0</td>\n",
              "      <td>0</td>\n",
              "      <td>0</td>\n",
              "      <td>0</td>\n",
              "      <td>0</td>\n",
              "      <td>0</td>\n",
              "      <td>0</td>\n",
              "      <td>0</td>\n",
              "      <td>0</td>\n",
              "      <td>0</td>\n",
              "      <td>0</td>\n",
              "      <td>0</td>\n",
              "      <td>0</td>\n",
              "      <td>0</td>\n",
              "      <td>0</td>\n",
              "      <td>0</td>\n",
              "      <td>0</td>\n",
              "      <td>0</td>\n",
              "      <td>0</td>\n",
              "    </tr>\n",
              "    <tr>\n",
              "      <th>3</th>\n",
              "      <td>[check, out, this, great, video, about, cowork...</td>\n",
              "      <td>0</td>\n",
              "      <td>0</td>\n",
              "      <td>0</td>\n",
              "      <td>0</td>\n",
              "      <td>0</td>\n",
              "      <td>0</td>\n",
              "      <td>0</td>\n",
              "      <td>0</td>\n",
              "      <td>0</td>\n",
              "      <td>0</td>\n",
              "      <td>0</td>\n",
              "      <td>0</td>\n",
              "      <td>0</td>\n",
              "      <td>0</td>\n",
              "      <td>0</td>\n",
              "      <td>0</td>\n",
              "      <td>0</td>\n",
              "      <td>0</td>\n",
              "      <td>0</td>\n",
              "      <td>0</td>\n",
              "      <td>0</td>\n",
              "      <td>0</td>\n",
              "      <td>0</td>\n",
              "      <td>0</td>\n",
              "      <td>0</td>\n",
              "      <td>0</td>\n",
              "      <td>0</td>\n",
              "      <td>0</td>\n",
              "      <td>0</td>\n",
              "      <td>0</td>\n",
              "      <td>0</td>\n",
              "      <td>0</td>\n",
              "      <td>0</td>\n",
              "      <td>0</td>\n",
              "      <td>0</td>\n",
              "      <td>0</td>\n",
              "      <td>0</td>\n",
              "      <td>0</td>\n",
              "      <td>0</td>\n",
              "      <td>...</td>\n",
              "      <td>0</td>\n",
              "      <td>0</td>\n",
              "      <td>0</td>\n",
              "      <td>0</td>\n",
              "      <td>0</td>\n",
              "      <td>0</td>\n",
              "      <td>0</td>\n",
              "      <td>0</td>\n",
              "      <td>0</td>\n",
              "      <td>0</td>\n",
              "      <td>0</td>\n",
              "      <td>1</td>\n",
              "      <td>0</td>\n",
              "      <td>0</td>\n",
              "      <td>0</td>\n",
              "      <td>0</td>\n",
              "      <td>0</td>\n",
              "      <td>0</td>\n",
              "      <td>0</td>\n",
              "      <td>0</td>\n",
              "      <td>0</td>\n",
              "      <td>0</td>\n",
              "      <td>0</td>\n",
              "      <td>0</td>\n",
              "      <td>0</td>\n",
              "      <td>0</td>\n",
              "      <td>0</td>\n",
              "      <td>0</td>\n",
              "      <td>0</td>\n",
              "      <td>0</td>\n",
              "      <td>0</td>\n",
              "      <td>0</td>\n",
              "      <td>0</td>\n",
              "      <td>0</td>\n",
              "      <td>0</td>\n",
              "      <td>0</td>\n",
              "      <td>0</td>\n",
              "      <td>0</td>\n",
              "      <td>0</td>\n",
              "      <td>0</td>\n",
              "    </tr>\n",
              "    <tr>\n",
              "      <th>4</th>\n",
              "      <td>[if, you, would, like, to, host, an, event, in...</td>\n",
              "      <td>0</td>\n",
              "      <td>0</td>\n",
              "      <td>0</td>\n",
              "      <td>0</td>\n",
              "      <td>0</td>\n",
              "      <td>0</td>\n",
              "      <td>0</td>\n",
              "      <td>0</td>\n",
              "      <td>0</td>\n",
              "      <td>0</td>\n",
              "      <td>0</td>\n",
              "      <td>0</td>\n",
              "      <td>0</td>\n",
              "      <td>0</td>\n",
              "      <td>0</td>\n",
              "      <td>0</td>\n",
              "      <td>0</td>\n",
              "      <td>0</td>\n",
              "      <td>0</td>\n",
              "      <td>0</td>\n",
              "      <td>0</td>\n",
              "      <td>0</td>\n",
              "      <td>0</td>\n",
              "      <td>0</td>\n",
              "      <td>0</td>\n",
              "      <td>0</td>\n",
              "      <td>0</td>\n",
              "      <td>0</td>\n",
              "      <td>0</td>\n",
              "      <td>0</td>\n",
              "      <td>0</td>\n",
              "      <td>0</td>\n",
              "      <td>0</td>\n",
              "      <td>0</td>\n",
              "      <td>0</td>\n",
              "      <td>0</td>\n",
              "      <td>0</td>\n",
              "      <td>0</td>\n",
              "      <td>0</td>\n",
              "      <td>...</td>\n",
              "      <td>0</td>\n",
              "      <td>0</td>\n",
              "      <td>0</td>\n",
              "      <td>0</td>\n",
              "      <td>0</td>\n",
              "      <td>0</td>\n",
              "      <td>0</td>\n",
              "      <td>0</td>\n",
              "      <td>0</td>\n",
              "      <td>0</td>\n",
              "      <td>0</td>\n",
              "      <td>0</td>\n",
              "      <td>0</td>\n",
              "      <td>0</td>\n",
              "      <td>0</td>\n",
              "      <td>0</td>\n",
              "      <td>0</td>\n",
              "      <td>0</td>\n",
              "      <td>0</td>\n",
              "      <td>0</td>\n",
              "      <td>0</td>\n",
              "      <td>0</td>\n",
              "      <td>0</td>\n",
              "      <td>0</td>\n",
              "      <td>0</td>\n",
              "      <td>0</td>\n",
              "      <td>0</td>\n",
              "      <td>0</td>\n",
              "      <td>0</td>\n",
              "      <td>0</td>\n",
              "      <td>0</td>\n",
              "      <td>0</td>\n",
              "      <td>0</td>\n",
              "      <td>0</td>\n",
              "      <td>0</td>\n",
              "      <td>0</td>\n",
              "      <td>0</td>\n",
              "      <td>0</td>\n",
              "      <td>0</td>\n",
              "      <td>0</td>\n",
              "    </tr>\n",
              "  </tbody>\n",
              "</table>\n",
              "<p>5 rows × 1070 columns</p>\n",
              "</div>"
            ],
            "text/plain": [
              "                                               chunk  ...  driven\n",
              "0                  [full, 350, month, 24, 7, access]  ...       0\n",
              "1  [ûïwhen, we, first, started, people, could, cl...  ...       0\n",
              "2              [article, by, evona, w, niewiadomska]  ...       0\n",
              "3  [check, out, this, great, video, about, cowork...  ...       0\n",
              "4  [if, you, would, like, to, host, an, event, in...  ...       0\n",
              "\n",
              "[5 rows x 1070 columns]"
            ]
          },
          "metadata": {
            "tags": []
          },
          "execution_count": 111
        }
      ]
    },
    {
      "cell_type": "code",
      "metadata": {
        "id": "uEVwQgE4orDt",
        "colab_type": "code",
        "colab": {
          "base_uri": "https://localhost:8080/",
          "height": 34
        },
        "outputId": "ab40674f-ce7b-4602-9282-115127d518f1"
      },
      "source": [
        "#co-efficient of cases where the word does not occur in vocabulary\n",
        "alpha = 1\n",
        "\n",
        "#total number of words in the dataset\n",
        "vocabulary_size = len(vocabulary) \n",
        "\n",
        "#part of chunk in dataset which are labeled as renting space\n",
        "renter = train_data['has_space'].value_counts()[1] / train_data.shape[0]\n",
        "\n",
        "#part of chunk in dataset which are labeled as not renting space\n",
        "non_renter = train_data['has_space'].value_counts()[0] / train_data.shape[0]\n",
        "\n",
        "#Total number of words in chunks which are labeled as renting a space\n",
        "Renter_wordCount = train_data.loc[train_data['has_space'] == 1, 'chunk'].apply(len).sum()\n",
        "\n",
        "#Total number of words in chunks which are labeled as not renting a space\n",
        "NonRent_WordCount = train_data.loc[train_data['has_space'] == 0, 'chunk'].apply(len).sum()\n",
        "vocabulary_size"
      ],
      "execution_count": 112,
      "outputs": [
        {
          "output_type": "execute_result",
          "data": {
            "text/plain": [
              "1068"
            ]
          },
          "metadata": {
            "tags": []
          },
          "execution_count": 112
        }
      ]
    },
    {
      "cell_type": "code",
      "metadata": {
        "id": "VojEMNz6qbn2",
        "colab_type": "code",
        "colab": {}
      },
      "source": [
        "def probability_word_rentedChunk(word):\n",
        "    if word in train_data.columns:\n",
        "        return (train_data.loc[train_data['has_space'] == 1, word].sum() + alpha) / (Renter_wordCount + alpha*vocabulary_size)\n",
        "    else:\n",
        "        return 1"
      ],
      "execution_count": 0,
      "outputs": []
    },
    {
      "cell_type": "code",
      "metadata": {
        "id": "5p-YziyWqwOD",
        "colab_type": "code",
        "colab": {}
      },
      "source": [
        "def probability_word_nonRentedChunk(word):\n",
        "    if word in train_data.columns:\n",
        "        return (train_data.loc[train_data['has_space'] == 0, word].sum() + alpha) / (NonRent_WordCount + alpha*vocabulary_size)\n",
        "    else:\n",
        "        return 1"
      ],
      "execution_count": 0,
      "outputs": []
    },
    {
      "cell_type": "markdown",
      "metadata": {
        "id": "MZP2LjAOrGLg",
        "colab_type": "text"
      },
      "source": [
        "# Creating classifier and predicting on test data"
      ]
    },
    {
      "cell_type": "code",
      "metadata": {
        "id": "va433XtOrJxc",
        "colab_type": "code",
        "colab": {}
      },
      "source": [
        "def classify(message):\n",
        "    probability_renter_given_message = renter \n",
        "\n",
        "    probability_nonrenter_given_message = non_renter\n",
        "    for word in message:\n",
        "        probability_renter_given_message *= probability_word_rentedChunk(word)\n",
        "        probability_nonrenter_given_message *= probability_word_nonRentedChunk(word)\n",
        "    if probability_nonrenter_given_message > probability_renter_given_message:\n",
        "        return 0\n",
        "    elif probability_nonrenter_given_message < probability_renter_given_message:\n",
        "        return 1\n",
        "    else:\n",
        "        return 1"
      ],
      "execution_count": 0,
      "outputs": []
    },
    {
      "cell_type": "code",
      "metadata": {
        "id": "5OtBr6nQsMCw",
        "colab_type": "code",
        "colab": {
          "base_uri": "https://localhost:8080/",
          "height": 34
        },
        "outputId": "0b2f414a-dac8-4e7a-be3f-3fdb6329ef52"
      },
      "source": [
        "classify(\"Office Space available for rent\")"
      ],
      "execution_count": 116,
      "outputs": [
        {
          "output_type": "execute_result",
          "data": {
            "text/plain": [
              "1"
            ]
          },
          "metadata": {
            "tags": []
          },
          "execution_count": 116
        }
      ]
    },
    {
      "cell_type": "code",
      "metadata": {
        "id": "-VdvPXBAsjJL",
        "colab_type": "code",
        "colab": {
          "base_uri": "https://localhost:8080/",
          "height": 979
        },
        "outputId": "e93970cb-2f42-4cad-c976-a4b57ce36d1e"
      },
      "source": [
        "test_data['predicted'] = test_data['chunk'].apply(classify)\n",
        "\n",
        "test_data"
      ],
      "execution_count": 117,
      "outputs": [
        {
          "output_type": "execute_result",
          "data": {
            "text/html": [
              "<div>\n",
              "<style scoped>\n",
              "    .dataframe tbody tr th:only-of-type {\n",
              "        vertical-align: middle;\n",
              "    }\n",
              "\n",
              "    .dataframe tbody tr th {\n",
              "        vertical-align: top;\n",
              "    }\n",
              "\n",
              "    .dataframe thead th {\n",
              "        text-align: right;\n",
              "    }\n",
              "</style>\n",
              "<table border=\"1\" class=\"dataframe\">\n",
              "  <thead>\n",
              "    <tr style=\"text-align: right;\">\n",
              "      <th></th>\n",
              "      <th>chunk</th>\n",
              "      <th>has_space</th>\n",
              "      <th>predicted</th>\n",
              "    </tr>\n",
              "  </thead>\n",
              "  <tbody>\n",
              "    <tr>\n",
              "      <th>0</th>\n",
              "      <td>[details, åêrent, includes, desk, and, chair, ...</td>\n",
              "      <td>1</td>\n",
              "      <td>1</td>\n",
              "    </tr>\n",
              "    <tr>\n",
              "      <th>1</th>\n",
              "      <td>[lili, has, a, rich, history, in, fortune, tel...</td>\n",
              "      <td>0</td>\n",
              "      <td>0</td>\n",
              "    </tr>\n",
              "    <tr>\n",
              "      <th>2</th>\n",
              "      <td>[configure, monitoring, of, systems, and, serv...</td>\n",
              "      <td>0</td>\n",
              "      <td>0</td>\n",
              "    </tr>\n",
              "    <tr>\n",
              "      <th>3</th>\n",
              "      <td>[ûïthe, majority, of, our, host, locations, ar...</td>\n",
              "      <td>1</td>\n",
              "      <td>1</td>\n",
              "    </tr>\n",
              "    <tr>\n",
              "      <th>4</th>\n",
              "      <td>[your, team, deserves, sunlight, nearly, all, ...</td>\n",
              "      <td>1</td>\n",
              "      <td>1</td>\n",
              "    </tr>\n",
              "    <tr>\n",
              "      <th>5</th>\n",
              "      <td>[workshop, brookline, ûò, 400, month, full, ti...</td>\n",
              "      <td>1</td>\n",
              "      <td>1</td>\n",
              "    </tr>\n",
              "    <tr>\n",
              "      <th>6</th>\n",
              "      <td>[not, required, åêåêno, notice, to, leave, jus...</td>\n",
              "      <td>0</td>\n",
              "      <td>0</td>\n",
              "    </tr>\n",
              "    <tr>\n",
              "      <th>7</th>\n",
              "      <td>[the, new, default, theme, presents, systems, ...</td>\n",
              "      <td>0</td>\n",
              "      <td>0</td>\n",
              "    </tr>\n",
              "    <tr>\n",
              "      <th>8</th>\n",
              "      <td>[special, pricing, on, multi, month, menbershi...</td>\n",
              "      <td>0</td>\n",
              "      <td>0</td>\n",
              "    </tr>\n",
              "    <tr>\n",
              "      <th>9</th>\n",
              "      <td>[january, 1st, marked, the, opening, for, appl...</td>\n",
              "      <td>0</td>\n",
              "      <td>1</td>\n",
              "    </tr>\n",
              "    <tr>\n",
              "      <th>10</th>\n",
              "      <td>[full, 350, month, 24, 7, access]</td>\n",
              "      <td>0</td>\n",
              "      <td>0</td>\n",
              "    </tr>\n",
              "    <tr>\n",
              "      <th>11</th>\n",
              "      <td>[check, out, this, great, video, about, cowork...</td>\n",
              "      <td>0</td>\n",
              "      <td>0</td>\n",
              "    </tr>\n",
              "    <tr>\n",
              "      <th>12</th>\n",
              "      <td>[virtualmin, is, the, most, powerful, and, fle...</td>\n",
              "      <td>0</td>\n",
              "      <td>0</td>\n",
              "    </tr>\n",
              "    <tr>\n",
              "      <th>13</th>\n",
              "      <td>[t, åêåê617, 401, 3300e, åêmakemec3, cic, us]</td>\n",
              "      <td>0</td>\n",
              "      <td>0</td>\n",
              "    </tr>\n",
              "    <tr>\n",
              "      <th>14</th>\n",
              "      <td>[ûïwhen, we, first, started, people, could, cl...</td>\n",
              "      <td>0</td>\n",
              "      <td>0</td>\n",
              "    </tr>\n",
              "    <tr>\n",
              "      <th>15</th>\n",
              "      <td>[super, zen, oficio, on, newbury, street, will...</td>\n",
              "      <td>1</td>\n",
              "      <td>1</td>\n",
              "    </tr>\n",
              "    <tr>\n",
              "      <th>16</th>\n",
              "      <td>[let, ûªs, grow, our, businesses, together, as...</td>\n",
              "      <td>0</td>\n",
              "      <td>0</td>\n",
              "    </tr>\n",
              "    <tr>\n",
              "      <th>17</th>\n",
              "      <td>[webmin, is, the, most, popular, web, based, s...</td>\n",
              "      <td>0</td>\n",
              "      <td>0</td>\n",
              "    </tr>\n",
              "    <tr>\n",
              "      <th>18</th>\n",
              "      <td>[ups, post, office, on, waterman, street]</td>\n",
              "      <td>0</td>\n",
              "      <td>0</td>\n",
              "    </tr>\n",
              "    <tr>\n",
              "      <th>19</th>\n",
              "      <td>[ûïnot, all, vertical, saas, companies, will, ...</td>\n",
              "      <td>0</td>\n",
              "      <td>0</td>\n",
              "    </tr>\n",
              "    <tr>\n",
              "      <th>20</th>\n",
              "      <td>[canopyåê, ûò, 300, month, for, shared, desk, ...</td>\n",
              "      <td>1</td>\n",
              "      <td>1</td>\n",
              "    </tr>\n",
              "    <tr>\n",
              "      <th>21</th>\n",
              "      <td>[insert, links, to, other, pages, or, uploaded...</td>\n",
              "      <td>0</td>\n",
              "      <td>0</td>\n",
              "    </tr>\n",
              "    <tr>\n",
              "      <th>22</th>\n",
              "      <td>[then, there, s, wework, the, co, working, jug...</td>\n",
              "      <td>1</td>\n",
              "      <td>1</td>\n",
              "    </tr>\n",
              "    <tr>\n",
              "      <th>23</th>\n",
              "      <td>[if, you, would, like, to, host, an, event, in...</td>\n",
              "      <td>0</td>\n",
              "      <td>0</td>\n",
              "    </tr>\n",
              "    <tr>\n",
              "      <th>24</th>\n",
              "      <td>[workbar, is, located, across, the, street, fr...</td>\n",
              "      <td>0</td>\n",
              "      <td>0</td>\n",
              "    </tr>\n",
              "    <tr>\n",
              "      <th>25</th>\n",
              "      <td>[cambridge, coworking, communityåê, c3]</td>\n",
              "      <td>0</td>\n",
              "      <td>0</td>\n",
              "    </tr>\n",
              "    <tr>\n",
              "      <th>26</th>\n",
              "      <td>[vibrant, neighborhood, community, ûò, ûò, res...</td>\n",
              "      <td>0</td>\n",
              "      <td>1</td>\n",
              "    </tr>\n",
              "    <tr>\n",
              "      <th>27</th>\n",
              "      <td>[rates, geek, premium, dedicated, workspace, f...</td>\n",
              "      <td>1</td>\n",
              "      <td>1</td>\n",
              "    </tr>\n",
              "    <tr>\n",
              "      <th>28</th>\n",
              "      <td>[the, re, shaping, of, the, american, workforc...</td>\n",
              "      <td>1</td>\n",
              "      <td>1</td>\n",
              "    </tr>\n",
              "    <tr>\n",
              "      <th>29</th>\n",
              "      <td>[usermin, is, webmail, and, much, more, usermi...</td>\n",
              "      <td>0</td>\n",
              "      <td>0</td>\n",
              "    </tr>\n",
              "  </tbody>\n",
              "</table>\n",
              "</div>"
            ],
            "text/plain": [
              "                                                chunk  has_space  predicted\n",
              "0   [details, åêrent, includes, desk, and, chair, ...          1          1\n",
              "1   [lili, has, a, rich, history, in, fortune, tel...          0          0\n",
              "2   [configure, monitoring, of, systems, and, serv...          0          0\n",
              "3   [ûïthe, majority, of, our, host, locations, ar...          1          1\n",
              "4   [your, team, deserves, sunlight, nearly, all, ...          1          1\n",
              "5   [workshop, brookline, ûò, 400, month, full, ti...          1          1\n",
              "6   [not, required, åêåêno, notice, to, leave, jus...          0          0\n",
              "7   [the, new, default, theme, presents, systems, ...          0          0\n",
              "8   [special, pricing, on, multi, month, menbershi...          0          0\n",
              "9   [january, 1st, marked, the, opening, for, appl...          0          1\n",
              "10                  [full, 350, month, 24, 7, access]          0          0\n",
              "11  [check, out, this, great, video, about, cowork...          0          0\n",
              "12  [virtualmin, is, the, most, powerful, and, fle...          0          0\n",
              "13      [t, åêåê617, 401, 3300e, åêmakemec3, cic, us]          0          0\n",
              "14  [ûïwhen, we, first, started, people, could, cl...          0          0\n",
              "15  [super, zen, oficio, on, newbury, street, will...          1          1\n",
              "16  [let, ûªs, grow, our, businesses, together, as...          0          0\n",
              "17  [webmin, is, the, most, popular, web, based, s...          0          0\n",
              "18          [ups, post, office, on, waterman, street]          0          0\n",
              "19  [ûïnot, all, vertical, saas, companies, will, ...          0          0\n",
              "20  [canopyåê, ûò, 300, month, for, shared, desk, ...          1          1\n",
              "21  [insert, links, to, other, pages, or, uploaded...          0          0\n",
              "22  [then, there, s, wework, the, co, working, jug...          1          1\n",
              "23  [if, you, would, like, to, host, an, event, in...          0          0\n",
              "24  [workbar, is, located, across, the, street, fr...          0          0\n",
              "25            [cambridge, coworking, communityåê, c3]          0          0\n",
              "26  [vibrant, neighborhood, community, ûò, ûò, res...          0          1\n",
              "27  [rates, geek, premium, dedicated, workspace, f...          1          1\n",
              "28  [the, re, shaping, of, the, american, workforc...          1          1\n",
              "29  [usermin, is, webmail, and, much, more, usermi...          0          0"
            ]
          },
          "metadata": {
            "tags": []
          },
          "execution_count": 117
        }
      ]
    },
    {
      "cell_type": "code",
      "metadata": {
        "id": "tKIfZ04is9CF",
        "colab_type": "code",
        "colab": {}
      },
      "source": [
        "prediction_accuracy = (test_data['predicted'] == test_data['has_space']).sum() / test_data.shape[0] * 100"
      ],
      "execution_count": 0,
      "outputs": []
    },
    {
      "cell_type": "code",
      "metadata": {
        "id": "BZb2ZICStJed",
        "colab_type": "code",
        "colab": {
          "base_uri": "https://localhost:8080/",
          "height": 111
        },
        "outputId": "23cacb9a-1d55-4135-c779-6cddf234fa39"
      },
      "source": [
        "test_data.loc[test_data['predicted'] != test_data['has_space']]"
      ],
      "execution_count": 119,
      "outputs": [
        {
          "output_type": "execute_result",
          "data": {
            "text/html": [
              "<div>\n",
              "<style scoped>\n",
              "    .dataframe tbody tr th:only-of-type {\n",
              "        vertical-align: middle;\n",
              "    }\n",
              "\n",
              "    .dataframe tbody tr th {\n",
              "        vertical-align: top;\n",
              "    }\n",
              "\n",
              "    .dataframe thead th {\n",
              "        text-align: right;\n",
              "    }\n",
              "</style>\n",
              "<table border=\"1\" class=\"dataframe\">\n",
              "  <thead>\n",
              "    <tr style=\"text-align: right;\">\n",
              "      <th></th>\n",
              "      <th>chunk</th>\n",
              "      <th>has_space</th>\n",
              "      <th>predicted</th>\n",
              "    </tr>\n",
              "  </thead>\n",
              "  <tbody>\n",
              "    <tr>\n",
              "      <th>9</th>\n",
              "      <td>[january, 1st, marked, the, opening, for, appl...</td>\n",
              "      <td>0</td>\n",
              "      <td>1</td>\n",
              "    </tr>\n",
              "    <tr>\n",
              "      <th>26</th>\n",
              "      <td>[vibrant, neighborhood, community, ûò, ûò, res...</td>\n",
              "      <td>0</td>\n",
              "      <td>1</td>\n",
              "    </tr>\n",
              "  </tbody>\n",
              "</table>\n",
              "</div>"
            ],
            "text/plain": [
              "                                                chunk  has_space  predicted\n",
              "9   [january, 1st, marked, the, opening, for, appl...          0          1\n",
              "26  [vibrant, neighborhood, community, ûò, ûò, res...          0          1"
            ]
          },
          "metadata": {
            "tags": []
          },
          "execution_count": 119
        }
      ]
    },
    {
      "cell_type": "code",
      "metadata": {
        "id": "DBD-WFmJtN2w",
        "colab_type": "code",
        "colab": {
          "base_uri": "https://localhost:8080/",
          "height": 34
        },
        "outputId": "ab6d6d5b-f311-40e5-bbba-c0492667d3fd"
      },
      "source": [
        "print(prediction_accuracy)"
      ],
      "execution_count": 120,
      "outputs": [
        {
          "output_type": "stream",
          "text": [
            "93.33333333333333\n"
          ],
          "name": "stdout"
        }
      ]
    }
  ]
}